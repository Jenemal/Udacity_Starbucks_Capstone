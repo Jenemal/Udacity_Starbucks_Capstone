{
 "cells": [
  {
   "attachments": {},
   "cell_type": "markdown",
   "metadata": {},
   "source": [
    "# Starbucks Capstone Project"
   ]
  },
  {
   "attachments": {},
   "cell_type": "markdown",
   "metadata": {},
   "source": [
    "### Pre-Processing\n",
    "I loaded in the 3 json files described below. I then created dummy columns and altered the column <br>\n",
    "names so that they were consistent across three dataframes where applicable.\n",
    "\n",
    "portfolio.json\n",
    "- id (string) - offer id\n",
    "- offer_type (string) - type of offer ie BOGO, discount, informational\n",
    "- difficulty (int) - minimum required spend to complete an offer\n",
    "- reward (int) - reward given for completing an offer\n",
    "- duration (int) - time for offer to be open, in days\n",
    "- channels (list of strings)\n",
    "\n",
    "profile.json\n",
    "- age (int) - age of the customer\n",
    "- became_member_on (int) - date when customer created an app account\n",
    "- gender (str) - gender of the customer (note some entries contain 'O' for other rather than M or F)\n",
    "- id (str) - customer id\n",
    "- income (float) - customer's income\n",
    "\n",
    "transcript.json\n",
    "- event (str) - record description (ie transaction, offer received, offer viewed, etc.)\n",
    "- person (str) - customer id\n",
    "- time (int) - time in hours since start of test. The data begins at time t=0\n",
    "- value - (dict of strings) - either an offer id or transaction amount depending on the record\n",
    "\n"
   ]
  },
  {
   "cell_type": "code",
   "execution_count": 93,
   "metadata": {},
   "outputs": [],
   "source": [
    "import pandas as pd\n",
    "import numpy as np, scipy.stats as st\n",
    "from matplotlib import pyplot as plt\n",
    "from datetime import datetime\n",
    "from sklearn.model_selection import train_test_split, RandomizedSearchCV\n",
    "from sklearn.linear_model import LogisticRegression\n",
    "from sklearn.ensemble import RandomForestClassifier\n",
    "from sklearn.metrics import classification_report, confusion_matrix, ConfusionMatrixDisplay\n",
    "from sklearn.ensemble import RandomForestClassifier\n",
    "from scipy.stats import randint\n",
    "\n",
    "\n",
    "\n",
    "# read in the json files\n",
    "portfolio = pd.read_json('./data/portfolio.json', orient='records', lines=True)\n",
    "profile = pd.read_json('./data/profile.json', orient='records', lines=True)\n",
    "transcript = pd.read_json('./data/transcript.json', orient='records', lines=True)\n",
    "\n",
    "# portfolio dataframe\n",
    "dummy_vals = pd.get_dummies(portfolio.channels.apply(pd.Series).stack()).groupby(level=0).sum()\n",
    "portfolio = pd.concat([portfolio, dummy_vals], axis=1)\n",
    "portfolio.drop(columns='channels', inplace=True)\n",
    "portfolio.rename(columns={'id':'offer_id'}, inplace=True)\n",
    "\n",
    "# profile dataframe\n",
    "profile['became_member_on'] = pd.to_datetime(profile['became_member_on'], format='%Y%m%d')\n",
    "profile.rename(columns={'id':'customer_id'}, inplace=True)\n",
    "\n",
    "# transcript dataframe\n",
    "transcript.rename(columns={'person':'customer_id'}, inplace=True)\n",
    "transcript['event'] = transcript['event'].str.replace('offer ','')\n",
    "\n",
    "dummy_vals = pd.get_dummies(transcript['event'])\n",
    "transcript = pd.concat([transcript,dummy_vals], axis=1)"
   ]
  },
  {
   "cell_type": "code",
   "execution_count": 94,
   "metadata": {},
   "outputs": [
    {
     "name": "stdout",
     "output_type": "stream",
     "text": [
      "gender                 0.127941\n",
      "age                    0.000000\n",
      "customer_id            0.000000\n",
      "income                 0.127941\n",
      "membership_duration    0.000000\n",
      "dtype: float64\n"
     ]
    }
   ],
   "source": [
    "# create a membership_duration column and calculate duration\n",
    "profile['membership_duration'] = 0\n",
    "\n",
    "# get today's date\n",
    "today = datetime.now()\n",
    "\n",
    "# simplify the duration to days\n",
    "profile['membership_duration'] = today - profile['became_member_on']\n",
    "profile['membership_duration'] = profile['membership_duration'].dt.total_seconds() / (24 * 60 * 60)\n",
    "\n",
    "# drop became_member_on\n",
    "profile.drop(columns='became_member_on', inplace=True)\n",
    "\n",
    "# check for the number of NaN values in profile\n",
    "print(profile.isna().sum()/len(profile.index)) # income and gender both have NaN values\n",
    "\n",
    "# exclude NaN values\n",
    "profile = profile[profile['income'].notna()]"
   ]
  },
  {
   "cell_type": "code",
   "execution_count": 95,
   "metadata": {},
   "outputs": [
    {
     "name": "stdout",
     "output_type": "stream",
     "text": [
      "M    0.572277\n",
      "F    0.413423\n",
      "O    0.014300\n",
      "Name: gender, dtype: float64\n"
     ]
    },
    {
     "name": "stderr",
     "output_type": "stream",
     "text": [
      "<ipython-input-95-f1a18092de55>:2: FutureWarning: Indexing with multiple keys (implicitly converted to a tuple of keys) will be deprecated, use a list instead.\n",
      "  messaging_platforms = portfolio.groupby('offer_type')['email', 'mobile', 'social', 'web'].sum()\n"
     ]
    }
   ],
   "source": [
    "# get the counts for how often each messaging platform is used\n",
    "messaging_platforms = portfolio.groupby('offer_type')['email', 'mobile', 'social', 'web'].sum()\n",
    "\n",
    "# print the proportion of member genders\n",
    "print(profile['gender'].value_counts()/profile['gender'].value_counts().sum())\n",
    "\n",
    "# subdivide the dataframe based on gender\n",
    "profile_male = profile.loc[profile['gender'] == 'M']\n",
    "profile_female = profile.loc[profile['gender'] == 'F']\n",
    "profile_other = profile.loc[profile['gender'] == 'O']\n"
   ]
  },
  {
   "cell_type": "code",
   "execution_count": 96,
   "metadata": {},
   "outputs": [],
   "source": [
    "# merge the transcript and profile dataframes on id\n",
    "df = pd.merge(transcript, profile, on=\"customer_id\")\n",
    "\n",
    "# extract unique keys in 'value' column to a seperate column\n",
    "keys = []\n",
    "for idx, row in df.iterrows():\n",
    "    for k in row['value']:\n",
    "        if k in keys:\n",
    "            continue\n",
    "        else:\n",
    "            keys.append(k)"
   ]
  },
  {
   "cell_type": "code",
   "execution_count": 97,
   "metadata": {},
   "outputs": [],
   "source": [
    "# create new value columns and specify the datatype\n",
    "df['offer_id'] = '' \n",
    "df['amount'] = 0  \n",
    "df['reward'] = 0 \n",
    "\n",
    "# iterate over the dataset and check the 'value' column\n",
    "# update the new columns using the values\n",
    "for idx, row in df.iterrows():\n",
    "    for k in row['value']:\n",
    "        if k == 'offer_id' or k == 'offer id':\n",
    "            df.at[idx, 'offer_id'] = row['value'][k]\n",
    "        if k == 'amount':\n",
    "            df.at[idx, 'amount'] = row['value'][k]\n",
    "        if k == 'reward':\n",
    "            df.at[idx, 'reward'] = row['value'][k]\n",
    "\n",
    "# fill all the NaNs in the 'offer_id' column with N/A\n",
    "df['offer_id'] = df['offer_id'].apply(lambda x: 'N/A' if x == '' else x)\n",
    "\n",
    "# drop the 'value' column \n",
    "df.drop('value', axis=1, inplace=True)"
   ]
  },
  {
   "cell_type": "code",
   "execution_count": 98,
   "metadata": {},
   "outputs": [
    {
     "name": "stderr",
     "output_type": "stream",
     "text": [
      "<ipython-input-98-843fc9f61547>:5: SettingWithCopyWarning: \n",
      "A value is trying to be set on a copy of a slice from a DataFrame\n",
      "\n",
      "See the caveats in the documentation: https://pandas.pydata.org/pandas-docs/stable/user_guide/indexing.html#returning-a-view-versus-a-copy\n",
      "  viewed_offers.drop(['amount', 'transaction', 'viewed', 'received'], axis=1, inplace=True)\n",
      "<ipython-input-98-843fc9f61547>:14: SettingWithCopyWarning: \n",
      "A value is trying to be set on a copy of a slice from a DataFrame\n",
      "\n",
      "See the caveats in the documentation: https://pandas.pydata.org/pandas-docs/stable/user_guide/indexing.html#returning-a-view-versus-a-copy\n",
      "  completed_offers.drop(['amount', 'transaction', 'viewed', 'received'], axis=1, inplace=True)\n"
     ]
    }
   ],
   "source": [
    "# create a new viewed offers dataframe that will be used to filter out the\n",
    "# completed orders. The assumption is that if a deal is completed but not \n",
    "# viewed the marketing effort did not work.\n",
    "viewed_offers = df.loc[df['event'] == 'viewed']\n",
    "viewed_offers.drop(['amount', 'transaction', 'viewed', 'received'], axis=1, inplace=True)\n",
    "viewed_offers = viewed_offers.merge(portfolio.drop('reward', axis=1), \n",
    "    left_on='offer_id', right_on='offer_id')\n",
    "\n",
    "# pull the number of offer_ids that are considered completed\n",
    "completed_offers = df.loc[df['event'] == 'completed']\n",
    "\n",
    "# drop the amount and dummy variable columns because there will be no amount associated\n",
    "# wih the completed tag and we do not need hte dummy var columns for this variable\n",
    "completed_offers.drop(['amount', 'transaction', 'viewed', 'received'], axis=1, inplace=True)\n",
    "\n",
    "# merge the completed offers with the user profile \n",
    "completed_offers = completed_offers.merge(portfolio.drop('reward', axis=1), \n",
    "    left_on='offer_id', right_on='offer_id')"
   ]
  },
  {
   "cell_type": "code",
   "execution_count": 99,
   "metadata": {},
   "outputs": [],
   "source": [
    "# filter the completed_offers dataframe to only include offers that were both\n",
    "# viewed and completed\n",
    "keys = list(['customer_id', 'offer_id'])\n",
    "i1 = completed_offers.set_index(keys).index\n",
    "i2 = viewed_offers.set_index(keys).index\n",
    "completed_and_viewed = completed_offers[~i1.isin(i2)]\n",
    "\n",
    "# filter the viewed_offers dataframe to remove the offers that were also completed\n",
    "# filter the completed_offers dataframe to only include offers that were both\n",
    "# viewed and completed\n",
    "keys = list(['customer_id', 'offer_id'])\n",
    "i1 = completed_offers.set_index(keys).index\n",
    "i2 = viewed_offers.set_index(keys).index\n",
    "not_completed_viewed = viewed_offers[~i2.isin(i1)]"
   ]
  },
  {
   "cell_type": "code",
   "execution_count": 100,
   "metadata": {},
   "outputs": [
    {
     "data": {
      "text/html": [
       "<div>\n",
       "<style scoped>\n",
       "    .dataframe tbody tr th:only-of-type {\n",
       "        vertical-align: middle;\n",
       "    }\n",
       "\n",
       "    .dataframe tbody tr th {\n",
       "        vertical-align: top;\n",
       "    }\n",
       "\n",
       "    .dataframe thead th {\n",
       "        text-align: right;\n",
       "    }\n",
       "</style>\n",
       "<table border=\"1\" class=\"dataframe\">\n",
       "  <thead>\n",
       "    <tr style=\"text-align: right;\">\n",
       "      <th></th>\n",
       "      <th>customer_id</th>\n",
       "      <th>event</th>\n",
       "      <th>time</th>\n",
       "      <th>outcome</th>\n",
       "      <th>gender</th>\n",
       "      <th>age</th>\n",
       "      <th>income</th>\n",
       "      <th>membership_duration</th>\n",
       "      <th>offer_id</th>\n",
       "      <th>reward</th>\n",
       "      <th>difficulty</th>\n",
       "      <th>duration</th>\n",
       "      <th>offer_type</th>\n",
       "      <th>email</th>\n",
       "      <th>mobile</th>\n",
       "      <th>social</th>\n",
       "      <th>web</th>\n",
       "    </tr>\n",
       "  </thead>\n",
       "  <tbody>\n",
       "    <tr>\n",
       "      <th>3</th>\n",
       "      <td>868317b9be554cb18e50bc68484749a2</td>\n",
       "      <td>completed</td>\n",
       "      <td>468</td>\n",
       "      <td>1</td>\n",
       "      <td>F</td>\n",
       "      <td>96</td>\n",
       "      <td>89000.0</td>\n",
       "      <td>1942.453574</td>\n",
       "      <td>9b98b8c7a33c4b65b9aebfe6a799e6d9</td>\n",
       "      <td>5</td>\n",
       "      <td>5</td>\n",
       "      <td>7</td>\n",
       "      <td>bogo</td>\n",
       "      <td>1</td>\n",
       "      <td>1</td>\n",
       "      <td>0</td>\n",
       "      <td>1</td>\n",
       "    </tr>\n",
       "    <tr>\n",
       "      <th>18</th>\n",
       "      <td>8a4bc602e4424ab6b16f0b907f2f22af</td>\n",
       "      <td>completed</td>\n",
       "      <td>396</td>\n",
       "      <td>1</td>\n",
       "      <td>M</td>\n",
       "      <td>55</td>\n",
       "      <td>31000.0</td>\n",
       "      <td>1919.453574</td>\n",
       "      <td>9b98b8c7a33c4b65b9aebfe6a799e6d9</td>\n",
       "      <td>5</td>\n",
       "      <td>5</td>\n",
       "      <td>7</td>\n",
       "      <td>bogo</td>\n",
       "      <td>1</td>\n",
       "      <td>1</td>\n",
       "      <td>0</td>\n",
       "      <td>1</td>\n",
       "    </tr>\n",
       "    <tr>\n",
       "      <th>19</th>\n",
       "      <td>52f0bd64403f4958ab8fe9a6947c13c3</td>\n",
       "      <td>completed</td>\n",
       "      <td>582</td>\n",
       "      <td>1</td>\n",
       "      <td>F</td>\n",
       "      <td>45</td>\n",
       "      <td>44000.0</td>\n",
       "      <td>2603.453574</td>\n",
       "      <td>9b98b8c7a33c4b65b9aebfe6a799e6d9</td>\n",
       "      <td>5</td>\n",
       "      <td>5</td>\n",
       "      <td>7</td>\n",
       "      <td>bogo</td>\n",
       "      <td>1</td>\n",
       "      <td>1</td>\n",
       "      <td>0</td>\n",
       "      <td>1</td>\n",
       "    </tr>\n",
       "    <tr>\n",
       "      <th>20</th>\n",
       "      <td>1a353048b0884fc5a0afa27677ef1e80</td>\n",
       "      <td>completed</td>\n",
       "      <td>468</td>\n",
       "      <td>1</td>\n",
       "      <td>F</td>\n",
       "      <td>51</td>\n",
       "      <td>56000.0</td>\n",
       "      <td>2038.453574</td>\n",
       "      <td>9b98b8c7a33c4b65b9aebfe6a799e6d9</td>\n",
       "      <td>5</td>\n",
       "      <td>5</td>\n",
       "      <td>7</td>\n",
       "      <td>bogo</td>\n",
       "      <td>1</td>\n",
       "      <td>1</td>\n",
       "      <td>0</td>\n",
       "      <td>1</td>\n",
       "    </tr>\n",
       "    <tr>\n",
       "      <th>24</th>\n",
       "      <td>d8567f1400d8486cb31c6abba64389ec</td>\n",
       "      <td>completed</td>\n",
       "      <td>606</td>\n",
       "      <td>1</td>\n",
       "      <td>M</td>\n",
       "      <td>38</td>\n",
       "      <td>64000.0</td>\n",
       "      <td>1971.453574</td>\n",
       "      <td>9b98b8c7a33c4b65b9aebfe6a799e6d9</td>\n",
       "      <td>5</td>\n",
       "      <td>5</td>\n",
       "      <td>7</td>\n",
       "      <td>bogo</td>\n",
       "      <td>1</td>\n",
       "      <td>1</td>\n",
       "      <td>0</td>\n",
       "      <td>1</td>\n",
       "    </tr>\n",
       "    <tr>\n",
       "      <th>...</th>\n",
       "      <td>...</td>\n",
       "      <td>...</td>\n",
       "      <td>...</td>\n",
       "      <td>...</td>\n",
       "      <td>...</td>\n",
       "      <td>...</td>\n",
       "      <td>...</td>\n",
       "      <td>...</td>\n",
       "      <td>...</td>\n",
       "      <td>...</td>\n",
       "      <td>...</td>\n",
       "      <td>...</td>\n",
       "      <td>...</td>\n",
       "      <td>...</td>\n",
       "      <td>...</td>\n",
       "      <td>...</td>\n",
       "      <td>...</td>\n",
       "    </tr>\n",
       "    <tr>\n",
       "      <th>49855</th>\n",
       "      <td>642dcbae782b41409fe3dfee949800ef</td>\n",
       "      <td>viewed</td>\n",
       "      <td>420</td>\n",
       "      <td>0</td>\n",
       "      <td>M</td>\n",
       "      <td>51</td>\n",
       "      <td>33000.0</td>\n",
       "      <td>1868.453574</td>\n",
       "      <td>3f207df678b143eea3cee63160fa8bed</td>\n",
       "      <td>0</td>\n",
       "      <td>0</td>\n",
       "      <td>4</td>\n",
       "      <td>informational</td>\n",
       "      <td>1</td>\n",
       "      <td>1</td>\n",
       "      <td>0</td>\n",
       "      <td>1</td>\n",
       "    </tr>\n",
       "    <tr>\n",
       "      <th>49856</th>\n",
       "      <td>612b51c917404bd4a62d46e5b2fedfca</td>\n",
       "      <td>viewed</td>\n",
       "      <td>516</td>\n",
       "      <td>0</td>\n",
       "      <td>M</td>\n",
       "      <td>77</td>\n",
       "      <td>96000.0</td>\n",
       "      <td>1885.453574</td>\n",
       "      <td>3f207df678b143eea3cee63160fa8bed</td>\n",
       "      <td>0</td>\n",
       "      <td>0</td>\n",
       "      <td>4</td>\n",
       "      <td>informational</td>\n",
       "      <td>1</td>\n",
       "      <td>1</td>\n",
       "      <td>0</td>\n",
       "      <td>1</td>\n",
       "    </tr>\n",
       "    <tr>\n",
       "      <th>49857</th>\n",
       "      <td>7103a340ed8244e1bee58a9639b7678b</td>\n",
       "      <td>viewed</td>\n",
       "      <td>408</td>\n",
       "      <td>0</td>\n",
       "      <td>F</td>\n",
       "      <td>37</td>\n",
       "      <td>90000.0</td>\n",
       "      <td>2757.453574</td>\n",
       "      <td>3f207df678b143eea3cee63160fa8bed</td>\n",
       "      <td>0</td>\n",
       "      <td>0</td>\n",
       "      <td>4</td>\n",
       "      <td>informational</td>\n",
       "      <td>1</td>\n",
       "      <td>1</td>\n",
       "      <td>0</td>\n",
       "      <td>1</td>\n",
       "    </tr>\n",
       "    <tr>\n",
       "      <th>49858</th>\n",
       "      <td>7103a340ed8244e1bee58a9639b7678b</td>\n",
       "      <td>viewed</td>\n",
       "      <td>582</td>\n",
       "      <td>0</td>\n",
       "      <td>F</td>\n",
       "      <td>37</td>\n",
       "      <td>90000.0</td>\n",
       "      <td>2757.453574</td>\n",
       "      <td>3f207df678b143eea3cee63160fa8bed</td>\n",
       "      <td>0</td>\n",
       "      <td>0</td>\n",
       "      <td>4</td>\n",
       "      <td>informational</td>\n",
       "      <td>1</td>\n",
       "      <td>1</td>\n",
       "      <td>0</td>\n",
       "      <td>1</td>\n",
       "    </tr>\n",
       "    <tr>\n",
       "      <th>49859</th>\n",
       "      <td>9fcbff4f8d7241faa4ab8a9d19c8a812</td>\n",
       "      <td>viewed</td>\n",
       "      <td>504</td>\n",
       "      <td>0</td>\n",
       "      <td>M</td>\n",
       "      <td>47</td>\n",
       "      <td>94000.0</td>\n",
       "      <td>1977.453574</td>\n",
       "      <td>3f207df678b143eea3cee63160fa8bed</td>\n",
       "      <td>0</td>\n",
       "      <td>0</td>\n",
       "      <td>4</td>\n",
       "      <td>informational</td>\n",
       "      <td>1</td>\n",
       "      <td>1</td>\n",
       "      <td>0</td>\n",
       "      <td>1</td>\n",
       "    </tr>\n",
       "  </tbody>\n",
       "</table>\n",
       "<p>26386 rows × 17 columns</p>\n",
       "</div>"
      ],
      "text/plain": [
       "                            customer_id      event  time  outcome gender  age  \\\n",
       "3      868317b9be554cb18e50bc68484749a2  completed   468        1      F   96   \n",
       "18     8a4bc602e4424ab6b16f0b907f2f22af  completed   396        1      M   55   \n",
       "19     52f0bd64403f4958ab8fe9a6947c13c3  completed   582        1      F   45   \n",
       "20     1a353048b0884fc5a0afa27677ef1e80  completed   468        1      F   51   \n",
       "24     d8567f1400d8486cb31c6abba64389ec  completed   606        1      M   38   \n",
       "...                                 ...        ...   ...      ...    ...  ...   \n",
       "49855  642dcbae782b41409fe3dfee949800ef     viewed   420        0      M   51   \n",
       "49856  612b51c917404bd4a62d46e5b2fedfca     viewed   516        0      M   77   \n",
       "49857  7103a340ed8244e1bee58a9639b7678b     viewed   408        0      F   37   \n",
       "49858  7103a340ed8244e1bee58a9639b7678b     viewed   582        0      F   37   \n",
       "49859  9fcbff4f8d7241faa4ab8a9d19c8a812     viewed   504        0      M   47   \n",
       "\n",
       "        income  membership_duration                          offer_id  reward  \\\n",
       "3      89000.0          1942.453574  9b98b8c7a33c4b65b9aebfe6a799e6d9       5   \n",
       "18     31000.0          1919.453574  9b98b8c7a33c4b65b9aebfe6a799e6d9       5   \n",
       "19     44000.0          2603.453574  9b98b8c7a33c4b65b9aebfe6a799e6d9       5   \n",
       "20     56000.0          2038.453574  9b98b8c7a33c4b65b9aebfe6a799e6d9       5   \n",
       "24     64000.0          1971.453574  9b98b8c7a33c4b65b9aebfe6a799e6d9       5   \n",
       "...        ...                  ...                               ...     ...   \n",
       "49855  33000.0          1868.453574  3f207df678b143eea3cee63160fa8bed       0   \n",
       "49856  96000.0          1885.453574  3f207df678b143eea3cee63160fa8bed       0   \n",
       "49857  90000.0          2757.453574  3f207df678b143eea3cee63160fa8bed       0   \n",
       "49858  90000.0          2757.453574  3f207df678b143eea3cee63160fa8bed       0   \n",
       "49859  94000.0          1977.453574  3f207df678b143eea3cee63160fa8bed       0   \n",
       "\n",
       "       difficulty  duration     offer_type  email  mobile  social  web  \n",
       "3               5         7           bogo      1       1       0    1  \n",
       "18              5         7           bogo      1       1       0    1  \n",
       "19              5         7           bogo      1       1       0    1  \n",
       "20              5         7           bogo      1       1       0    1  \n",
       "24              5         7           bogo      1       1       0    1  \n",
       "...           ...       ...            ...    ...     ...     ...  ...  \n",
       "49855           0         4  informational      1       1       0    1  \n",
       "49856           0         4  informational      1       1       0    1  \n",
       "49857           0         4  informational      1       1       0    1  \n",
       "49858           0         4  informational      1       1       0    1  \n",
       "49859           0         4  informational      1       1       0    1  \n",
       "\n",
       "[26386 rows x 17 columns]"
      ]
     },
     "execution_count": 100,
     "metadata": {},
     "output_type": "execute_result"
    }
   ],
   "source": [
    "# combine the two dataframes\n",
    "cleaned_df = pd.concat([completed_and_viewed, not_completed_viewed])\n",
    "\n",
    "# Rename the completed column to outcome. The offers viewed and not completed will\n",
    "# serve as the unsuccessful outcome (0)\n",
    "cleaned_df.rename(columns={'completed':'outcome'}, inplace=True)\n",
    "cleaned_df"
   ]
  },
  {
   "attachments": {},
   "cell_type": "markdown",
   "metadata": {},
   "source": [
    "### Visualize the Data"
   ]
  },
  {
   "attachments": {},
   "cell_type": "markdown",
   "metadata": {},
   "source": [
    "#### Data summary of offers"
   ]
  },
  {
   "cell_type": "code",
   "execution_count": 101,
   "metadata": {},
   "outputs": [
    {
     "data": {
      "text/plain": [
       "<AxesSubplot:title={'center':'Offer Duration'}, ylabel='Frequency'>"
      ]
     },
     "execution_count": 101,
     "metadata": {},
     "output_type": "execute_result"
    },
    {
     "data": {
      "image/png": "[encoded data removed]",
      "text/plain": [
       "<Figure size 576x576 with 1 Axes>"
      ]
     },
     "metadata": {},
     "output_type": "display_data"
    },
    {
     "data": {
      "text/plain": [
       "<Figure size 432x288 with 0 Axes>"
      ]
     },
     "metadata": {},
     "output_type": "display_data"
    },
    {
     "data": {
      "image/png": "[encoded data removed]",
      "text/plain": [
       "<Figure size 576x576 with 1 Axes>"
      ]
     },
     "metadata": {
      "needs_background": "light"
     },
     "output_type": "display_data"
    },
    {
     "data": {
      "image/png": "[encoded data removed]",
      "text/plain": [
       "<Figure size 576x576 with 1 Axes>"
      ]
     },
     "metadata": {},
     "output_type": "display_data"
    }
   ],
   "source": [
    "# Get a data summary of the types of offers/ plot the results\n",
    "# Distribution of offer types\n",
    "fig = plt.figure()\n",
    "fig.set_facecolor(\"white\")\n",
    "portfolio.offer_type.value_counts().plot.pie(\n",
    "    figsize=(8,8),\n",
    "    autopct='%1.1f%%',\n",
    "    textprops={'fontsize': 14},\n",
    "    title=\"Proportion of Different Offer Types\")\n",
    "\n",
    "# Distribution of messaging platforms\n",
    "fig = plt.figure()\n",
    "fig.set_facecolor(\"white\")\n",
    "messaging_platforms.plot.bar(figsize=(8,8),\n",
    "    title=\"Frequency of Messaging Platforms\")\n",
    "\n",
    "# Offer type versus duration\n",
    "fig = plt.figure()\n",
    "fig.set_facecolor(\"white\")\n",
    "portfolio.duration.plot.hist(\n",
    "    figsize=(8,8),\n",
    "    title=\"Offer Duration\"\n",
    ")"
   ]
  },
  {
   "attachments": {},
   "cell_type": "markdown",
   "metadata": {},
   "source": [
    "#### Data summary of member demographics"
   ]
  },
  {
   "cell_type": "code",
   "execution_count": 102,
   "metadata": {},
   "outputs": [
    {
     "data": {
      "image/png": "[encoded data removed]",
      "text/plain": [
       "<Figure size 432x288 with 1 Axes>"
      ]
     },
     "metadata": {
      "needs_background": "light"
     },
     "output_type": "display_data"
    }
   ],
   "source": [
    "# Plot a histogram of the ages based on gender\n",
    "plt.hist(profile_male['age'], \n",
    "         alpha=0.5, # the transaparency parameter\n",
    "         label='Male',\n",
    "         density=True)\n",
    "  \n",
    "plt.hist(profile_female['age'], \n",
    "         alpha=0.5, # the transaparency parameter\n",
    "         label='Female',\n",
    "         density=True)\n",
    "\n",
    "plt.hist(profile_other['age'], \n",
    "         alpha=0.5, # the transaparency parameter\n",
    "         label='Other',\n",
    "         density=True)\n",
    "  \n",
    "plt.legend(loc='upper right')\n",
    "plt.title('Age Based on Gender')\n",
    "plt.show()"
   ]
  },
  {
   "cell_type": "code",
   "execution_count": 103,
   "metadata": {},
   "outputs": [
    {
     "name": "stdout",
     "output_type": "stream",
     "text": [
      "female age:  57.54495023658019 (57.12218741370506, 57.96771305945532)\n",
      "male age:  52.11669024045262 (51.74609004942178, 52.48729043148346)\n",
      "other age:  54.40094339622642 (52.20161390766539, 56.600272884787444)\n"
     ]
    }
   ],
   "source": [
    "print('female age: ', \n",
    "    np.mean(profile_female['age']), \n",
    "    st.t.interval(0.95, len(profile_female['age'])-1, \n",
    "    loc=np.mean(profile_female['age']), \n",
    "    scale=st.sem(profile_female['age'])))\n",
    "\n",
    "print('male age: ', \n",
    "    np.mean(profile_male['age']), \n",
    "    st.t.interval(0.95, len(profile_male['age'])-1, \n",
    "    loc=np.mean(profile_male['age']), \n",
    "    scale=st.sem(profile_male['age'])))\n",
    "\n",
    "print('other age: ', \n",
    "    np.mean(profile_other['age']), \n",
    "    st.t.interval(0.95, len(profile_other['age'])-1, \n",
    "    loc=np.mean(profile_other['age']), \n",
    "    scale=st.sem(profile_other['age'])))"
   ]
  },
  {
   "cell_type": "code",
   "execution_count": null,
   "metadata": {},
   "outputs": [],
   "source": []
  },
  {
   "cell_type": "code",
   "execution_count": 104,
   "metadata": {},
   "outputs": [
    {
     "data": {
      "image/png": "[encoded data removed]",
      "text/plain": [
       "<Figure size 432x288 with 1 Axes>"
      ]
     },
     "metadata": {
      "needs_background": "light"
     },
     "output_type": "display_data"
    }
   ],
   "source": [
    "# Plot a histogram of the income based on gender\n",
    "plt.hist(profile_male['income'], \n",
    "         alpha=0.5, # the transaparency parameter\n",
    "         label='Male',\n",
    "         density=True)\n",
    "  \n",
    "plt.hist(profile_female['income'], \n",
    "         alpha=0.5, # the transaparency parameter\n",
    "         label='Female',\n",
    "         density=True)\n",
    "\n",
    "plt.hist(profile_other['income'], \n",
    "         alpha=0.5, # the transaparency parameter\n",
    "         label='Other',\n",
    "         density=True)\n",
    "  \n",
    "plt.legend(loc='upper right')\n",
    "plt.title('Income Based on Gender')\n",
    "plt.show()"
   ]
  },
  {
   "cell_type": "code",
   "execution_count": 105,
   "metadata": {},
   "outputs": [
    {
     "name": "stdout",
     "output_type": "stream",
     "text": [
      "male income:  63287.735849056604 (60723.68829833314, 65851.78339978008)\n",
      "female income:  71306.41213901126 (70747.05365153107, 71865.77062649145)\n",
      "other income:  61194.60160301744 (60767.48479222511, 61621.71841380978)\n"
     ]
    }
   ],
   "source": [
    "# calculate and print the confidence intervals for each\n",
    "# income distribution\n",
    "print('male income: ', \n",
    "    np.mean(profile_other['income']), \n",
    "    st.t.interval(0.95, len(profile_other['income'])-1, \n",
    "    loc=np.mean(profile_other['income']), \n",
    "    scale=st.sem(profile_other['income'])))\n",
    "\n",
    "print('female income: ', \n",
    "np.mean(profile_female['income']), \n",
    "st.t.interval(0.95, len(profile_female['income'])-1, \n",
    "loc=np.mean(profile_female['income']), \n",
    "scale=st.sem(profile_female['income'])))\n",
    "\n",
    "print('other income: ', \n",
    "np.mean(profile_male['income']), \n",
    "st.t.interval(0.95, len(profile_male['income'])-1, \n",
    "loc=np.mean(profile_male['income']), \n",
    "scale=st.sem(profile_male['income'])))"
   ]
  },
  {
   "cell_type": "code",
   "execution_count": 106,
   "metadata": {},
   "outputs": [
    {
     "data": {
      "text/plain": [
       "<AxesSubplot:title={'center':'Member Gender'}, ylabel='gender'>"
      ]
     },
     "execution_count": 106,
     "metadata": {},
     "output_type": "execute_result"
    },
    {
     "data": {
      "image/png": "[encoded data removed]",
      "text/plain": [
       "<Figure size 576x576 with 1 Axes>"
      ]
     },
     "metadata": {},
     "output_type": "display_data"
    }
   ],
   "source": [
    "# Get a data summary for the user profile information\n",
    "profile.isna().sum()/profile.shape[0]\n",
    "\n",
    "# calculate the percentage of M/ F/ Other/ None\n",
    "fig = plt.figure()\n",
    "fig.set_facecolor(\"white\")\n",
    "(profile['gender'].value_counts()/profile['gender'].value_counts().sum()).plot.pie(\n",
    "    figsize=(8,8),\n",
    "    autopct='%1.1f%%',\n",
    "    textprops={'fontsize': 14},\n",
    "    title=\"Member Gender\"  \n",
    ")\n"
   ]
  },
  {
   "cell_type": "code",
   "execution_count": 107,
   "metadata": {},
   "outputs": [
    {
     "data": {
      "text/plain": [
       "transaction    123957\n",
       "received        66501\n",
       "viewed          49860\n",
       "completed       32444\n",
       "Name: event, dtype: int64"
      ]
     },
     "execution_count": 107,
     "metadata": {},
     "output_type": "execute_result"
    },
    {
     "data": {
      "image/png": "[encoded data removed]",
      "text/plain": [
       "<Figure size 720x720 with 1 Axes>"
      ]
     },
     "metadata": {
      "needs_background": "light"
     },
     "output_type": "display_data"
    }
   ],
   "source": [
    "fig = plt.figure()\n",
    "df.event.value_counts().plot.bar(figsize=(10,10),\n",
    "    title=\"Frequency of Event Type\")\n",
    "\n",
    "df.event.value_counts()"
   ]
  },
  {
   "cell_type": "markdown",
   "metadata": {},
   "source": [
    "### Develop the ML Model\n",
    "Here we take the cleaned_df created in pre-processing and will use it to create a <br>\n",
    "machine learning model that will identify key parameters that affect whether an add will be <br>\n",
    "successful or not."
   ]
  },
  {
   "cell_type": "code",
   "execution_count": 108,
   "metadata": {},
   "outputs": [],
   "source": [
    "# Preprocess the df to be used in the ML model\n",
    "# create dummy var for offer type and gender\n",
    "dummy_vals = pd.get_dummies(cleaned_df, columns = ['gender', 'offer_type'])\n",
    "dummy_vals\n",
    "cleaned_df_ML = dummy_vals.drop(columns=['customer_id', 'event', 'outcome', 'offer_id', 'reward'])"
   ]
  },
  {
   "cell_type": "code",
   "execution_count": 109,
   "metadata": {},
   "outputs": [
    {
     "name": "stdout",
     "output_type": "stream",
     "text": [
      "Number of successes: 4759\n",
      "Number of Unsuccessful offers: 21627\n",
      "Percent success: 0.220049012808064\n"
     ]
    }
   ],
   "source": [
    "# check to see if the dataset is balanced\n",
    "print('Number of successes:', cleaned_df['outcome'].sum())\n",
    "print('Number of Unsuccessful offers:',(cleaned_df['outcome'] == 0).sum())\n",
    "print('Percent success:', cleaned_df['outcome'].sum()/(cleaned_df['outcome'] == 0).sum())"
   ]
  },
  {
   "cell_type": "code",
   "execution_count": 110,
   "metadata": {},
   "outputs": [],
   "source": [
    "# Define the X and Y variables\n",
    "X = cleaned_df_ML\n",
    "Y = cleaned_df['outcome']\n",
    "category_names = list(X.columns)\n",
    "\n",
    "X_train, X_test, Y_train, Y_test = train_test_split(X, Y, test_size=0.2)"
   ]
  },
  {
   "cell_type": "code",
   "execution_count": 115,
   "metadata": {},
   "outputs": [],
   "source": [
    "# create model toggle flag\n",
    "usingRandomForest = True"
   ]
  },
  {
   "attachments": {},
   "cell_type": "markdown",
   "metadata": {},
   "source": [
    "#### Logistic Regression Model\n",
    "The initial ML model developed was a simple logistic regression model. Due to the fact <br>\n",
    "that the dataset is imbalanced I opted to try using a random forest model as it needs <br>\n",
    "little pre-processing."
   ]
  },
  {
   "cell_type": "code",
   "execution_count": 113,
   "metadata": {},
   "outputs": [
    {
     "name": "stdout",
     "output_type": "stream",
     "text": [
      "              precision    recall  f1-score   support\n",
      "\n",
      "           0       0.85      0.97      0.91      4288\n",
      "           1       0.70      0.28      0.40       990\n",
      "\n",
      "    accuracy                           0.84      5278\n",
      "   macro avg       0.78      0.62      0.65      5278\n",
      "weighted avg       0.83      0.84      0.81      5278\n",
      "\n"
     ]
    },
    {
     "data": {
      "image/png": "[encoded data removed]",
      "text/plain": [
       "<Figure size 432x288 with 2 Axes>"
      ]
     },
     "metadata": {
      "needs_background": "light"
     },
     "output_type": "display_data"
    }
   ],
   "source": [
    "if usingRandomForest == False:\n",
    "\n",
    "    # build the model for the logistic regression\n",
    "    model = LogisticRegression(solver='lbfgs',max_iter=10000)  \n",
    "\n",
    "    # train the model\n",
    "    model.fit(X_train, Y_train) \n",
    "\n",
    "    # test and evaluate the model\n",
    "    Y_pred = model.predict(X_test)\n",
    "\n",
    "    # create confusion matrix\n",
    "    conf_matrix = confusion_matrix(Y_test, Y_pred)\n",
    "\n",
    "    ConfusionMatrixDisplay(confusion_matrix = conf_matrix).plot()  \n",
    "\n",
    "    report  = classification_report(Y_test, Y_pred, labels = [0,1])\n",
    "    print(report)   \n",
    "\n",
    "    # print(model.steps[0][1].coef_[0])\n",
    "    # print(X_train.columns)"
   ]
  },
  {
   "attachments": {},
   "cell_type": "markdown",
   "metadata": {},
   "source": [
    "#### Random Forest Model"
   ]
  },
  {
   "cell_type": "code",
   "execution_count": 117,
   "metadata": {},
   "outputs": [
    {
     "name": "stdout",
     "output_type": "stream",
     "text": [
      "The best hyperparameters are: {'max_depth': 8, 'n_estimators': 346}\n",
      "              precision    recall  f1-score   support\n",
      "\n",
      "           0       0.95      0.95      0.95      4288\n",
      "           1       0.79      0.78      0.79       990\n",
      "\n",
      "    accuracy                           0.92      5278\n",
      "   macro avg       0.87      0.87      0.87      5278\n",
      "weighted avg       0.92      0.92      0.92      5278\n",
      "\n"
     ]
    },
    {
     "data": {
      "image/png": "[encoded data removed]",
      "text/plain": [
       "<Figure size 432x288 with 2 Axes>"
      ]
     },
     "metadata": {
      "needs_background": "light"
     },
     "output_type": "display_data"
    }
   ],
   "source": [
    "if usingRandomForest == True: \n",
    "    # create a random forest classifier\n",
    "    random_forest = RandomForestClassifier()\n",
    "\n",
    "    # create parameter distribution\n",
    "    param_dist = {'n_estimators': randint(50,500),\n",
    "                  'max_depth': randint(1,10)}\n",
    "\n",
    "    # find the best hyperparameters\n",
    "    random_search = RandomizedSearchCV(\n",
    "        random_forest,\n",
    "        param_distributions = param_dist,\n",
    "        n_iter = 10,\n",
    "        cv = 5\n",
    "    )\n",
    "\n",
    "    # fit the random search object\n",
    "    random_search.fit(X_train, Y_train)\n",
    "\n",
    "    # identify the best hyperparameters\n",
    "    ideal_random_forest = random_search.best_estimator_\n",
    "\n",
    "    print(\"The best hyperparameters are:\", random_search.best_params_)\n",
    "\n",
    "    # using the best model, generate the predictions\n",
    "    Y_pred = ideal_random_forest.predict(X_test)\n",
    "\n",
    "    # create confusion matrix\n",
    "    conf_matrix = confusion_matrix(Y_test, Y_pred)\n",
    "\n",
    "    ConfusionMatrixDisplay(confusion_matrix = conf_matrix).plot()\n",
    "\n",
    "    report  = classification_report(Y_test, Y_pred, labels = [0,1])\n",
    "    print(report)"
   ]
  },
  {
   "cell_type": "code",
   "execution_count": 118,
   "metadata": {},
   "outputs": [
    {
     "data": {
      "text/plain": [
       "<AxesSubplot:>"
      ]
     },
     "execution_count": 118,
     "metadata": {},
     "output_type": "execute_result"
    },
    {
     "data": {
      "image/png": "[encoded data removed]",
      "text/plain": [
       "<Figure size 432x288 with 1 Axes>"
      ]
     },
     "metadata": {
      "needs_background": "light"
     },
     "output_type": "display_data"
    }
   ],
   "source": [
    "# identify the key parameters/ features that contribute to a successful offer\n",
    "\n",
    "# feature importances from the model and feature names from the training data\n",
    "feature_importances = pd.Series(ideal_random_forest.feature_importances_, index=X_train.columns).sort_values(ascending=False)\n",
    "\n",
    "# Plot a simple bar chart\n",
    "feature_importances.plot.bar()"
   ]
  },
  {
   "cell_type": "code",
   "execution_count": 92,
   "metadata": {},
   "outputs": [
    {
     "name": "stdout",
     "output_type": "stream",
     "text": [
      "              precision    recall  f1-score   support\n",
      "\n",
      "           0       0.95      0.95      0.95      4323\n",
      "           1       0.78      0.79      0.79       955\n",
      "\n",
      "    accuracy                           0.92      5278\n",
      "   macro avg       0.87      0.87      0.87      5278\n",
      "weighted avg       0.92      0.92      0.92      5278\n",
      "\n"
     ]
    }
   ],
   "source": []
  }
 ],
 "metadata": {
  "kernelspec": {
   "display_name": "Python 3",
   "language": "python",
   "name": "python3"
  },
  "language_info": {
   "codemirror_mode": {
    "name": "ipython",
    "version": 3
   },
   "file_extension": ".py",
   "mimetype": "text/x-python",
   "name": "python",
   "nbconvert_exporter": "python",
   "pygments_lexer": "ipython3",
   "version": "3.9.13"
  },
  "orig_nbformat": 4,
  "vscode": {
   "interpreter": {
    "hash": "11938c6bc6919ae2720b4d5011047913343b08a43b18698fd82dedb0d4417594"
   }
  }
 },
 "nbformat": 4,
 "nbformat_minor": 2
}
