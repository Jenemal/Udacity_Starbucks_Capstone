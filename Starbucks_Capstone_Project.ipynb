{
 "cells": [
  {
   "attachments": {},
   "cell_type": "markdown",
   "metadata": {},
   "source": [
    "# Starbucks Capstone Project"
   ]
  },
  {
   "attachments": {},
   "cell_type": "markdown",
   "metadata": {},
   "source": [
    "### Pre-Processing\n",
    "I loaded in the 3 json files described below. I then created dummy columns and altered the column <br>\n",
    "names so that they were consistent across three dataframes where applicable.\n",
    "\n",
    "portfolio.json\n",
    "- id (string) - offer id\n",
    "- offer_type (string) - type of offer ie BOGO, discount, informational\n",
    "- difficulty (int) - minimum required spend to complete an offer\n",
    "- reward (int) - reward given for completing an offer\n",
    "- duration (int) - time for offer to be open, in days\n",
    "- channels (list of strings)\n",
    "\n",
    "profile.json\n",
    "- age (int) - age of the customer\n",
    "- became_member_on (int) - date when customer created an app account\n",
    "- gender (str) - gender of the customer (note some entries contain 'O' for other rather than M or F)\n",
    "- id (str) - customer id\n",
    "- income (float) - customer's income\n",
    "\n",
    "transcript.json\n",
    "- event (str) - record description (ie transaction, offer received, offer viewed, etc.)\n",
    "- person (str) - customer id\n",
    "- time (int) - time in hours since start of test. The data begins at time t=0\n",
    "- value - (dict of strings) - either an offer id or transaction amount depending on the record\n",
    "\n"
   ]
  },
  {
   "cell_type": "code",
   "execution_count": 472,
   "metadata": {},
   "outputs": [],
   "source": [
    "import pandas as pd\n",
    "import numpy as np, scipy.stats as st\n",
    "from matplotlib import pyplot as plt\n",
    "from datetime import datetime\n",
    "from sklearn.model_selection import train_test_split\n",
    "\n",
    "from sklearn.linear_model import LogisticRegression\n",
    "from sklearn.ensemble import RandomForestClassifier\n",
    "from sklearn.pipeline import Pipeline\n",
    "from sklearn.metrics import classification_report\n",
    "from sklearn.model_selection import GridSearchCV\n",
    "\n",
    "# read in the json files\n",
    "portfolio = pd.read_json('./data/portfolio.json', orient='records', lines=True)\n",
    "profile = pd.read_json('./data/profile.json', orient='records', lines=True)\n",
    "transcript = pd.read_json('./data/transcript.json', orient='records', lines=True)\n",
    "\n",
    "# portfolio dataframe\n",
    "dummy_vals = pd.get_dummies(portfolio.channels.apply(pd.Series).stack()).groupby(level=0).sum()\n",
    "portfolio = pd.concat([portfolio, dummy_vals], axis=1)\n",
    "portfolio.drop(columns='channels', inplace=True)\n",
    "portfolio.rename(columns={'id':'offer_id'}, inplace=True)\n",
    "\n",
    "# profile dataframe\n",
    "profile['became_member_on'] = pd.to_datetime(profile['became_member_on'], format='%Y%m%d')\n",
    "profile.rename(columns={'id':'customer_id'}, inplace=True)\n",
    "\n",
    "# transcript dataframe\n",
    "transcript.rename(columns={'person':'customer_id'}, inplace=True)\n",
    "transcript['event'] = transcript['event'].str.replace('offer ','')\n",
    "\n",
    "dummy_vals = pd.get_dummies(transcript['event'])\n",
    "transcript = pd.concat([transcript,dummy_vals], axis=1)"
   ]
  },
  {
   "cell_type": "code",
   "execution_count": 473,
   "metadata": {},
   "outputs": [],
   "source": [
    "# create a membership_duration column and calculate duration\n",
    "profile['membership_duration'] = 0\n",
    "\n",
    "# get today's date\n",
    "today = datetime.now()\n",
    "\n",
    "# simplify the duration to days\n",
    "profile['membership_duration'] = today - profile['became_member_on']\n",
    "profile['membership_duration'] = profile['membership_duration'].dt.total_seconds() / (24 * 60 * 60)\n",
    "\n",
    "# drop became_member_on\n",
    "profile.drop(columns='became_member_on', inplace=True)\n",
    "\n",
    "# check for the number of NaN values in profile\n",
    "profile.isna().sum() # income and gender both have NaN values\n",
    "\n",
    "# exclude NaN values\n",
    "profile = profile[profile['income'].notna()]"
   ]
  },
  {
   "cell_type": "code",
   "execution_count": 474,
   "metadata": {},
   "outputs": [
    {
     "name": "stdout",
     "output_type": "stream",
     "text": [
      "M    0.572277\n",
      "F    0.413423\n",
      "O    0.014300\n",
      "Name: gender, dtype: float64\n"
     ]
    },
    {
     "name": "stderr",
     "output_type": "stream",
     "text": [
      "<ipython-input-474-3c66784f6eff>:2: FutureWarning: Indexing with multiple keys (implicitly converted to a tuple of keys) will be deprecated, use a list instead.\n",
      "  messaging_platforms = portfolio.groupby('offer_type')['email', 'mobile', 'social', 'web'].sum()\n"
     ]
    }
   ],
   "source": [
    "# get the counts for how often each messaging platform is used\n",
    "messaging_platforms = portfolio.groupby('offer_type')['email', 'mobile', 'social', 'web'].sum()\n",
    "\n",
    "# print the proportion of member genders\n",
    "print(profile['gender'].value_counts()/profile['gender'].value_counts().sum())\n",
    "\n",
    "# subdivide the dataframe based on gender\n",
    "profile_male = profile.loc[profile['gender'] == 'M']\n",
    "profile_female = profile.loc[profile['gender'] == 'F']\n",
    "profile_other = profile.loc[profile['gender'] == 'O']\n",
    "\n",
    "# check for NaN values\n"
   ]
  },
  {
   "cell_type": "code",
   "execution_count": 475,
   "metadata": {},
   "outputs": [],
   "source": [
    "# merge the transcript and profile dataframes on id\n",
    "df = pd.merge(transcript, profile, on=\"customer_id\")\n",
    "\n",
    "# extract unique keys in 'value' column to a seperate column\n",
    "keys = []\n",
    "for idx, row in df.iterrows():\n",
    "    for k in row['value']:\n",
    "        if k in keys:\n",
    "            continue\n",
    "        else:\n",
    "            keys.append(k)"
   ]
  },
  {
   "cell_type": "code",
   "execution_count": 476,
   "metadata": {},
   "outputs": [],
   "source": [
    "# create new value columns and specify the datatype\n",
    "df['offer_id'] = '' \n",
    "df['amount'] = 0  \n",
    "df['reward'] = 0 \n",
    "\n",
    "# iterate over the dataset and check the 'value' column\n",
    "# update the new columns using the values\n",
    "for idx, row in df.iterrows():\n",
    "    for k in row['value']:\n",
    "        if k == 'offer_id' or k == 'offer id':\n",
    "            df.at[idx, 'offer_id'] = row['value'][k]\n",
    "        if k == 'amount':\n",
    "            df.at[idx, 'amount'] = row['value'][k]\n",
    "        if k == 'reward':\n",
    "            df.at[idx, 'reward'] = row['value'][k]\n",
    "\n",
    "# fill all the NaNs in the 'offer_id' column with N/A\n",
    "df['offer_id'] = df['offer_id'].apply(lambda x: 'N/A' if x == '' else x)\n",
    "\n",
    "# drop the 'value' column \n",
    "df.drop('value', axis=1, inplace=True)"
   ]
  },
  {
   "cell_type": "code",
   "execution_count": 477,
   "metadata": {},
   "outputs": [
    {
     "name": "stderr",
     "output_type": "stream",
     "text": [
      "<ipython-input-477-843fc9f61547>:5: SettingWithCopyWarning: \n",
      "A value is trying to be set on a copy of a slice from a DataFrame\n",
      "\n",
      "See the caveats in the documentation: https://pandas.pydata.org/pandas-docs/stable/user_guide/indexing.html#returning-a-view-versus-a-copy\n",
      "  viewed_offers.drop(['amount', 'transaction', 'viewed', 'received'], axis=1, inplace=True)\n",
      "<ipython-input-477-843fc9f61547>:14: SettingWithCopyWarning: \n",
      "A value is trying to be set on a copy of a slice from a DataFrame\n",
      "\n",
      "See the caveats in the documentation: https://pandas.pydata.org/pandas-docs/stable/user_guide/indexing.html#returning-a-view-versus-a-copy\n",
      "  completed_offers.drop(['amount', 'transaction', 'viewed', 'received'], axis=1, inplace=True)\n"
     ]
    }
   ],
   "source": [
    "# create a new viewed offers dataframe that will be used to filter out the\n",
    "# completed orders. The assumption is that if a deal is completed but not \n",
    "# viewed the marketing effort did not work.\n",
    "viewed_offers = df.loc[df['event'] == 'viewed']\n",
    "viewed_offers.drop(['amount', 'transaction', 'viewed', 'received'], axis=1, inplace=True)\n",
    "viewed_offers = viewed_offers.merge(portfolio.drop('reward', axis=1), \n",
    "    left_on='offer_id', right_on='offer_id')\n",
    "\n",
    "# pull the number of offer_ids that are considered completed\n",
    "completed_offers = df.loc[df['event'] == 'completed']\n",
    "\n",
    "# drop the amount and dummy variable columns because there will be no amount associated\n",
    "# wih the completed tag and we do not need hte dummy var columns for this variable\n",
    "completed_offers.drop(['amount', 'transaction', 'viewed', 'received'], axis=1, inplace=True)\n",
    "\n",
    "# merge the completed offers with the user profile \n",
    "completed_offers = completed_offers.merge(portfolio.drop('reward', axis=1), \n",
    "    left_on='offer_id', right_on='offer_id')"
   ]
  },
  {
   "cell_type": "code",
   "execution_count": 478,
   "metadata": {},
   "outputs": [],
   "source": [
    "# filter the completed_offers dataframe to only include offers that were both\n",
    "# viewed and completed\n",
    "keys = list(['customer_id', 'offer_id'])\n",
    "i1 = completed_offers.set_index(keys).index\n",
    "i2 = viewed_offers.set_index(keys).index\n",
    "completed_and_viewed = completed_offers[~i1.isin(i2)]\n",
    "\n",
    "# filter the viewed_offers dataframe to remove the offers that were also completed\n",
    "# filter the completed_offers dataframe to only include offers that were both\n",
    "# viewed and completed\n",
    "keys = list(['customer_id', 'offer_id'])\n",
    "i1 = completed_offers.set_index(keys).index\n",
    "i2 = viewed_offers.set_index(keys).index\n",
    "not_completed_viewed = viewed_offers[~i2.isin(i1)]"
   ]
  },
  {
   "cell_type": "code",
   "execution_count": 479,
   "metadata": {},
   "outputs": [
    {
     "data": {
      "text/html": [
       "<div>\n",
       "<style scoped>\n",
       "    .dataframe tbody tr th:only-of-type {\n",
       "        vertical-align: middle;\n",
       "    }\n",
       "\n",
       "    .dataframe tbody tr th {\n",
       "        vertical-align: top;\n",
       "    }\n",
       "\n",
       "    .dataframe thead th {\n",
       "        text-align: right;\n",
       "    }\n",
       "</style>\n",
       "<table border=\"1\" class=\"dataframe\">\n",
       "  <thead>\n",
       "    <tr style=\"text-align: right;\">\n",
       "      <th></th>\n",
       "      <th>customer_id</th>\n",
       "      <th>event</th>\n",
       "      <th>time</th>\n",
       "      <th>outcome</th>\n",
       "      <th>gender</th>\n",
       "      <th>age</th>\n",
       "      <th>income</th>\n",
       "      <th>membership_duration</th>\n",
       "      <th>offer_id</th>\n",
       "      <th>reward</th>\n",
       "      <th>difficulty</th>\n",
       "      <th>duration</th>\n",
       "      <th>offer_type</th>\n",
       "      <th>email</th>\n",
       "      <th>mobile</th>\n",
       "      <th>social</th>\n",
       "      <th>web</th>\n",
       "    </tr>\n",
       "  </thead>\n",
       "  <tbody>\n",
       "    <tr>\n",
       "      <th>3</th>\n",
       "      <td>868317b9be554cb18e50bc68484749a2</td>\n",
       "      <td>completed</td>\n",
       "      <td>468</td>\n",
       "      <td>1</td>\n",
       "      <td>F</td>\n",
       "      <td>96</td>\n",
       "      <td>89000.0</td>\n",
       "      <td>1938.420585</td>\n",
       "      <td>9b98b8c7a33c4b65b9aebfe6a799e6d9</td>\n",
       "      <td>5</td>\n",
       "      <td>5</td>\n",
       "      <td>7</td>\n",
       "      <td>bogo</td>\n",
       "      <td>1</td>\n",
       "      <td>1</td>\n",
       "      <td>0</td>\n",
       "      <td>1</td>\n",
       "    </tr>\n",
       "    <tr>\n",
       "      <th>18</th>\n",
       "      <td>8a4bc602e4424ab6b16f0b907f2f22af</td>\n",
       "      <td>completed</td>\n",
       "      <td>396</td>\n",
       "      <td>1</td>\n",
       "      <td>M</td>\n",
       "      <td>55</td>\n",
       "      <td>31000.0</td>\n",
       "      <td>1915.420585</td>\n",
       "      <td>9b98b8c7a33c4b65b9aebfe6a799e6d9</td>\n",
       "      <td>5</td>\n",
       "      <td>5</td>\n",
       "      <td>7</td>\n",
       "      <td>bogo</td>\n",
       "      <td>1</td>\n",
       "      <td>1</td>\n",
       "      <td>0</td>\n",
       "      <td>1</td>\n",
       "    </tr>\n",
       "    <tr>\n",
       "      <th>19</th>\n",
       "      <td>52f0bd64403f4958ab8fe9a6947c13c3</td>\n",
       "      <td>completed</td>\n",
       "      <td>582</td>\n",
       "      <td>1</td>\n",
       "      <td>F</td>\n",
       "      <td>45</td>\n",
       "      <td>44000.0</td>\n",
       "      <td>2599.420585</td>\n",
       "      <td>9b98b8c7a33c4b65b9aebfe6a799e6d9</td>\n",
       "      <td>5</td>\n",
       "      <td>5</td>\n",
       "      <td>7</td>\n",
       "      <td>bogo</td>\n",
       "      <td>1</td>\n",
       "      <td>1</td>\n",
       "      <td>0</td>\n",
       "      <td>1</td>\n",
       "    </tr>\n",
       "    <tr>\n",
       "      <th>20</th>\n",
       "      <td>1a353048b0884fc5a0afa27677ef1e80</td>\n",
       "      <td>completed</td>\n",
       "      <td>468</td>\n",
       "      <td>1</td>\n",
       "      <td>F</td>\n",
       "      <td>51</td>\n",
       "      <td>56000.0</td>\n",
       "      <td>2034.420585</td>\n",
       "      <td>9b98b8c7a33c4b65b9aebfe6a799e6d9</td>\n",
       "      <td>5</td>\n",
       "      <td>5</td>\n",
       "      <td>7</td>\n",
       "      <td>bogo</td>\n",
       "      <td>1</td>\n",
       "      <td>1</td>\n",
       "      <td>0</td>\n",
       "      <td>1</td>\n",
       "    </tr>\n",
       "    <tr>\n",
       "      <th>24</th>\n",
       "      <td>d8567f1400d8486cb31c6abba64389ec</td>\n",
       "      <td>completed</td>\n",
       "      <td>606</td>\n",
       "      <td>1</td>\n",
       "      <td>M</td>\n",
       "      <td>38</td>\n",
       "      <td>64000.0</td>\n",
       "      <td>1967.420585</td>\n",
       "      <td>9b98b8c7a33c4b65b9aebfe6a799e6d9</td>\n",
       "      <td>5</td>\n",
       "      <td>5</td>\n",
       "      <td>7</td>\n",
       "      <td>bogo</td>\n",
       "      <td>1</td>\n",
       "      <td>1</td>\n",
       "      <td>0</td>\n",
       "      <td>1</td>\n",
       "    </tr>\n",
       "    <tr>\n",
       "      <th>...</th>\n",
       "      <td>...</td>\n",
       "      <td>...</td>\n",
       "      <td>...</td>\n",
       "      <td>...</td>\n",
       "      <td>...</td>\n",
       "      <td>...</td>\n",
       "      <td>...</td>\n",
       "      <td>...</td>\n",
       "      <td>...</td>\n",
       "      <td>...</td>\n",
       "      <td>...</td>\n",
       "      <td>...</td>\n",
       "      <td>...</td>\n",
       "      <td>...</td>\n",
       "      <td>...</td>\n",
       "      <td>...</td>\n",
       "      <td>...</td>\n",
       "    </tr>\n",
       "    <tr>\n",
       "      <th>49855</th>\n",
       "      <td>642dcbae782b41409fe3dfee949800ef</td>\n",
       "      <td>viewed</td>\n",
       "      <td>420</td>\n",
       "      <td>0</td>\n",
       "      <td>M</td>\n",
       "      <td>51</td>\n",
       "      <td>33000.0</td>\n",
       "      <td>1864.420585</td>\n",
       "      <td>3f207df678b143eea3cee63160fa8bed</td>\n",
       "      <td>0</td>\n",
       "      <td>0</td>\n",
       "      <td>4</td>\n",
       "      <td>informational</td>\n",
       "      <td>1</td>\n",
       "      <td>1</td>\n",
       "      <td>0</td>\n",
       "      <td>1</td>\n",
       "    </tr>\n",
       "    <tr>\n",
       "      <th>49856</th>\n",
       "      <td>612b51c917404bd4a62d46e5b2fedfca</td>\n",
       "      <td>viewed</td>\n",
       "      <td>516</td>\n",
       "      <td>0</td>\n",
       "      <td>M</td>\n",
       "      <td>77</td>\n",
       "      <td>96000.0</td>\n",
       "      <td>1881.420585</td>\n",
       "      <td>3f207df678b143eea3cee63160fa8bed</td>\n",
       "      <td>0</td>\n",
       "      <td>0</td>\n",
       "      <td>4</td>\n",
       "      <td>informational</td>\n",
       "      <td>1</td>\n",
       "      <td>1</td>\n",
       "      <td>0</td>\n",
       "      <td>1</td>\n",
       "    </tr>\n",
       "    <tr>\n",
       "      <th>49857</th>\n",
       "      <td>7103a340ed8244e1bee58a9639b7678b</td>\n",
       "      <td>viewed</td>\n",
       "      <td>408</td>\n",
       "      <td>0</td>\n",
       "      <td>F</td>\n",
       "      <td>37</td>\n",
       "      <td>90000.0</td>\n",
       "      <td>2753.420585</td>\n",
       "      <td>3f207df678b143eea3cee63160fa8bed</td>\n",
       "      <td>0</td>\n",
       "      <td>0</td>\n",
       "      <td>4</td>\n",
       "      <td>informational</td>\n",
       "      <td>1</td>\n",
       "      <td>1</td>\n",
       "      <td>0</td>\n",
       "      <td>1</td>\n",
       "    </tr>\n",
       "    <tr>\n",
       "      <th>49858</th>\n",
       "      <td>7103a340ed8244e1bee58a9639b7678b</td>\n",
       "      <td>viewed</td>\n",
       "      <td>582</td>\n",
       "      <td>0</td>\n",
       "      <td>F</td>\n",
       "      <td>37</td>\n",
       "      <td>90000.0</td>\n",
       "      <td>2753.420585</td>\n",
       "      <td>3f207df678b143eea3cee63160fa8bed</td>\n",
       "      <td>0</td>\n",
       "      <td>0</td>\n",
       "      <td>4</td>\n",
       "      <td>informational</td>\n",
       "      <td>1</td>\n",
       "      <td>1</td>\n",
       "      <td>0</td>\n",
       "      <td>1</td>\n",
       "    </tr>\n",
       "    <tr>\n",
       "      <th>49859</th>\n",
       "      <td>9fcbff4f8d7241faa4ab8a9d19c8a812</td>\n",
       "      <td>viewed</td>\n",
       "      <td>504</td>\n",
       "      <td>0</td>\n",
       "      <td>M</td>\n",
       "      <td>47</td>\n",
       "      <td>94000.0</td>\n",
       "      <td>1973.420585</td>\n",
       "      <td>3f207df678b143eea3cee63160fa8bed</td>\n",
       "      <td>0</td>\n",
       "      <td>0</td>\n",
       "      <td>4</td>\n",
       "      <td>informational</td>\n",
       "      <td>1</td>\n",
       "      <td>1</td>\n",
       "      <td>0</td>\n",
       "      <td>1</td>\n",
       "    </tr>\n",
       "  </tbody>\n",
       "</table>\n",
       "<p>26386 rows × 17 columns</p>\n",
       "</div>"
      ],
      "text/plain": [
       "                            customer_id      event  time  outcome gender  age  \\\n",
       "3      868317b9be554cb18e50bc68484749a2  completed   468        1      F   96   \n",
       "18     8a4bc602e4424ab6b16f0b907f2f22af  completed   396        1      M   55   \n",
       "19     52f0bd64403f4958ab8fe9a6947c13c3  completed   582        1      F   45   \n",
       "20     1a353048b0884fc5a0afa27677ef1e80  completed   468        1      F   51   \n",
       "24     d8567f1400d8486cb31c6abba64389ec  completed   606        1      M   38   \n",
       "...                                 ...        ...   ...      ...    ...  ...   \n",
       "49855  642dcbae782b41409fe3dfee949800ef     viewed   420        0      M   51   \n",
       "49856  612b51c917404bd4a62d46e5b2fedfca     viewed   516        0      M   77   \n",
       "49857  7103a340ed8244e1bee58a9639b7678b     viewed   408        0      F   37   \n",
       "49858  7103a340ed8244e1bee58a9639b7678b     viewed   582        0      F   37   \n",
       "49859  9fcbff4f8d7241faa4ab8a9d19c8a812     viewed   504        0      M   47   \n",
       "\n",
       "        income  membership_duration                          offer_id  reward  \\\n",
       "3      89000.0          1938.420585  9b98b8c7a33c4b65b9aebfe6a799e6d9       5   \n",
       "18     31000.0          1915.420585  9b98b8c7a33c4b65b9aebfe6a799e6d9       5   \n",
       "19     44000.0          2599.420585  9b98b8c7a33c4b65b9aebfe6a799e6d9       5   \n",
       "20     56000.0          2034.420585  9b98b8c7a33c4b65b9aebfe6a799e6d9       5   \n",
       "24     64000.0          1967.420585  9b98b8c7a33c4b65b9aebfe6a799e6d9       5   \n",
       "...        ...                  ...                               ...     ...   \n",
       "49855  33000.0          1864.420585  3f207df678b143eea3cee63160fa8bed       0   \n",
       "49856  96000.0          1881.420585  3f207df678b143eea3cee63160fa8bed       0   \n",
       "49857  90000.0          2753.420585  3f207df678b143eea3cee63160fa8bed       0   \n",
       "49858  90000.0          2753.420585  3f207df678b143eea3cee63160fa8bed       0   \n",
       "49859  94000.0          1973.420585  3f207df678b143eea3cee63160fa8bed       0   \n",
       "\n",
       "       difficulty  duration     offer_type  email  mobile  social  web  \n",
       "3               5         7           bogo      1       1       0    1  \n",
       "18              5         7           bogo      1       1       0    1  \n",
       "19              5         7           bogo      1       1       0    1  \n",
       "20              5         7           bogo      1       1       0    1  \n",
       "24              5         7           bogo      1       1       0    1  \n",
       "...           ...       ...            ...    ...     ...     ...  ...  \n",
       "49855           0         4  informational      1       1       0    1  \n",
       "49856           0         4  informational      1       1       0    1  \n",
       "49857           0         4  informational      1       1       0    1  \n",
       "49858           0         4  informational      1       1       0    1  \n",
       "49859           0         4  informational      1       1       0    1  \n",
       "\n",
       "[26386 rows x 17 columns]"
      ]
     },
     "execution_count": 479,
     "metadata": {},
     "output_type": "execute_result"
    }
   ],
   "source": [
    "# combine the two dataframes\n",
    "cleaned_df = pd.concat([completed_and_viewed, not_completed_viewed])\n",
    "\n",
    "# Rename the completed column to outcome. The offers viewed and not completed will\n",
    "# serve as the unsuccessful outcome (0)\n",
    "cleaned_df.rename(columns={'completed':'outcome'}, inplace=True)\n",
    "cleaned_df"
   ]
  },
  {
   "attachments": {},
   "cell_type": "markdown",
   "metadata": {},
   "source": [
    "### Visualize the Data"
   ]
  },
  {
   "attachments": {},
   "cell_type": "markdown",
   "metadata": {},
   "source": [
    "#### Data summary of offers"
   ]
  },
  {
   "cell_type": "code",
   "execution_count": 480,
   "metadata": {},
   "outputs": [
    {
     "data": {
      "text/plain": [
       "<AxesSubplot:title={'center':'Offer Duration'}, ylabel='Frequency'>"
      ]
     },
     "execution_count": 480,
     "metadata": {},
     "output_type": "execute_result"
    },
    {
     "data": {
      "image/png": "[encoded data removed]",
      "text/plain": [
       "<Figure size 576x576 with 1 Axes>"
      ]
     },
     "metadata": {},
     "output_type": "display_data"
    },
    {
     "data": {
      "text/plain": [
       "<Figure size 432x288 with 0 Axes>"
      ]
     },
     "metadata": {},
     "output_type": "display_data"
    },
    {
     "data": {
      "image/png": "[encoded data removed]",
      "text/plain": [
       "<Figure size 576x576 with 1 Axes>"
      ]
     },
     "metadata": {
      "needs_background": "light"
     },
     "output_type": "display_data"
    },
    {
     "data": {
      "image/png": "[encoded data removed]",
      "text/plain": [
       "<Figure size 576x576 with 1 Axes>"
      ]
     },
     "metadata": {},
     "output_type": "display_data"
    }
   ],
   "source": [
    "# Get a data summary of the types of offers/ plot the results\n",
    "# Distribution of offer types\n",
    "fig = plt.figure()\n",
    "fig.set_facecolor(\"white\")\n",
    "portfolio.offer_type.value_counts().plot.pie(\n",
    "    figsize=(8,8),\n",
    "    autopct='%1.1f%%',\n",
    "    textprops={'fontsize': 14},\n",
    "    title=\"Proportion of Different Offer Types\")\n",
    "\n",
    "# Distribution of messaging platforms\n",
    "fig = plt.figure()\n",
    "fig.set_facecolor(\"white\")\n",
    "messaging_platforms.plot.bar(figsize=(8,8),\n",
    "    title=\"Frequency of Messaging Platforms\")\n",
    "\n",
    "# Offer type versus duration\n",
    "fig = plt.figure()\n",
    "fig.set_facecolor(\"white\")\n",
    "portfolio.duration.plot.hist(\n",
    "    figsize=(8,8),\n",
    "    title=\"Offer Duration\"\n",
    ")"
   ]
  },
  {
   "attachments": {},
   "cell_type": "markdown",
   "metadata": {},
   "source": [
    "#### Data summary of member demographics"
   ]
  },
  {
   "cell_type": "code",
   "execution_count": 481,
   "metadata": {},
   "outputs": [
    {
     "data": {
      "image/png": "[encoded data removed]",
      "text/plain": [
       "<Figure size 432x288 with 1 Axes>"
      ]
     },
     "metadata": {
      "needs_background": "light"
     },
     "output_type": "display_data"
    }
   ],
   "source": [
    "# Plot a histogram of the ages based on gender\n",
    "plt.hist(profile_male['age'], \n",
    "         alpha=0.5, # the transaparency parameter\n",
    "         label='Male',\n",
    "         density=True)\n",
    "  \n",
    "plt.hist(profile_female['age'], \n",
    "         alpha=0.5, # the transaparency parameter\n",
    "         label='Female',\n",
    "         density=True)\n",
    "\n",
    "plt.hist(profile_other['age'], \n",
    "         alpha=0.5, # the transaparency parameter\n",
    "         label='Other',\n",
    "         density=True)\n",
    "  \n",
    "plt.legend(loc='upper right')\n",
    "plt.title('Age Based on Gender')\n",
    "plt.show()"
   ]
  },
  {
   "cell_type": "code",
   "execution_count": 482,
   "metadata": {},
   "outputs": [
    {
     "data": {
      "image/png": "[encoded data removed]",
      "text/plain": [
       "<Figure size 432x288 with 1 Axes>"
      ]
     },
     "metadata": {
      "needs_background": "light"
     },
     "output_type": "display_data"
    }
   ],
   "source": [
    "# Plot a histogram of the income based on gender\n",
    "plt.hist(profile_male['income'], \n",
    "         alpha=0.5, # the transaparency parameter\n",
    "         label='Male',\n",
    "         density=True)\n",
    "  \n",
    "plt.hist(profile_female['income'], \n",
    "         alpha=0.5, # the transaparency parameter\n",
    "         label='Female',\n",
    "         density=True)\n",
    "\n",
    "plt.hist(profile_other['income'], \n",
    "         alpha=0.5, # the transaparency parameter\n",
    "         label='Other',\n",
    "         density=True)\n",
    "  \n",
    "plt.legend(loc='upper right')\n",
    "plt.title('Income Based on Gender')\n",
    "plt.show()"
   ]
  },
  {
   "cell_type": "code",
   "execution_count": 483,
   "metadata": {},
   "outputs": [
    {
     "name": "stdout",
     "output_type": "stream",
     "text": [
      "male income:  63287.735849056604 (60723.68829833314, 65851.78339978008)\n",
      "female income:  71306.41213901126 (70747.05365153107, 71865.77062649145)\n",
      "other income:  61194.60160301744 (60767.48479222511, 61621.71841380978)\n"
     ]
    }
   ],
   "source": [
    "# calculate and print the confidence intervals for each\n",
    "# income distribution\n",
    "print('male income: ', \n",
    "    np.mean(profile_other['income']), \n",
    "    st.t.interval(0.95, len(profile_other['income'])-1, \n",
    "    loc=np.mean(profile_other['income']), \n",
    "    scale=st.sem(profile_other['income'])))\n",
    "\n",
    "print('female income: ', \n",
    "np.mean(profile_female['income']), \n",
    "st.t.interval(0.95, len(profile_female['income'])-1, \n",
    "loc=np.mean(profile_female['income']), \n",
    "scale=st.sem(profile_female['income'])))\n",
    "\n",
    "print('other income: ', \n",
    "np.mean(profile_male['income']), \n",
    "st.t.interval(0.95, len(profile_male['income'])-1, \n",
    "loc=np.mean(profile_male['income']), \n",
    "scale=st.sem(profile_male['income'])))"
   ]
  },
  {
   "cell_type": "code",
   "execution_count": 484,
   "metadata": {},
   "outputs": [
    {
     "data": {
      "text/plain": [
       "<AxesSubplot:title={'center':'Member Gender'}, ylabel='gender'>"
      ]
     },
     "execution_count": 484,
     "metadata": {},
     "output_type": "execute_result"
    },
    {
     "data": {
      "image/png": "[encoded data removed]",
      "text/plain": [
       "<Figure size 576x576 with 1 Axes>"
      ]
     },
     "metadata": {},
     "output_type": "display_data"
    }
   ],
   "source": [
    "# Get a data summary for the user profile information\n",
    "profile.isna().sum()/profile.shape[0]\n",
    "\n",
    "# calculate the percentage of M/ F/ Other/ None\n",
    "fig = plt.figure()\n",
    "fig.set_facecolor(\"white\")\n",
    "(profile['gender'].value_counts()/profile['gender'].value_counts().sum()).plot.pie(\n",
    "    figsize=(8,8),\n",
    "    autopct='%1.1f%%',\n",
    "    textprops={'fontsize': 14},\n",
    "    title=\"Member Gender\"  \n",
    ")\n"
   ]
  },
  {
   "cell_type": "code",
   "execution_count": 485,
   "metadata": {},
   "outputs": [
    {
     "data": {
      "text/plain": [
       "transaction    123957\n",
       "received        66501\n",
       "viewed          49860\n",
       "completed       32444\n",
       "Name: event, dtype: int64"
      ]
     },
     "execution_count": 485,
     "metadata": {},
     "output_type": "execute_result"
    },
    {
     "data": {
      "image/png": "[encoded data removed]",
      "text/plain": [
       "<Figure size 720x720 with 1 Axes>"
      ]
     },
     "metadata": {
      "needs_background": "light"
     },
     "output_type": "display_data"
    }
   ],
   "source": [
    "fig = plt.figure()\n",
    "df.event.value_counts().plot.bar(figsize=(10,10),\n",
    "    title=\"Frequency of Event Type\")\n",
    "\n",
    "df.event.value_counts()"
   ]
  },
  {
   "cell_type": "markdown",
   "metadata": {},
   "source": [
    "### Develop the ML Model\n",
    "Here we take the cleaned_df created in pre-processing and will use it to create a <br>\n",
    "machine learning model that will identify key parameters that affect whether an add will be <br>\n",
    "successful or not."
   ]
  },
  {
   "cell_type": "code",
   "execution_count": 514,
   "metadata": {},
   "outputs": [],
   "source": [
    "# Preprocess the df to be used in the ML model\n",
    "# create dummy var for offer type and gender\n",
    "dummy_vals = pd.get_dummies(cleaned_df, columns = ['gender', 'offer_type'])\n",
    "dummy_vals\n",
    "cleaned_df_ML = dummy_vals.drop(columns=['customer_id', 'event', 'outcome', 'offer_id', 'reward'])"
   ]
  },
  {
   "cell_type": "code",
   "execution_count": 487,
   "metadata": {},
   "outputs": [
    {
     "data": {
      "text/plain": [
       "time                        0\n",
       "age                         0\n",
       "income                      0\n",
       "membership_duration         0\n",
       "reward                      0\n",
       "difficulty                  0\n",
       "duration                    0\n",
       "email                       0\n",
       "mobile                      0\n",
       "social                      0\n",
       "web                         0\n",
       "gender_F                    0\n",
       "gender_M                    0\n",
       "gender_O                    0\n",
       "offer_type_bogo             0\n",
       "offer_type_discount         0\n",
       "offer_type_informational    0\n",
       "dtype: int64"
      ]
     },
     "execution_count": 487,
     "metadata": {},
     "output_type": "execute_result"
    }
   ],
   "source": [
    "cleaned_df_ML.isna().sum()"
   ]
  },
  {
   "cell_type": "code",
   "execution_count": 515,
   "metadata": {},
   "outputs": [],
   "source": [
    "# Define the X and Y variables\n",
    "X = cleaned_df_ML\n",
    "Y = cleaned_df['outcome']\n",
    "category_names = list(X.columns)\n",
    "\n",
    "X_train, X_test, Y_train, Y_test = train_test_split(X, Y, test_size=0.2)"
   ]
  },
  {
   "cell_type": "code",
   "execution_count": 516,
   "metadata": {},
   "outputs": [],
   "source": [
    "# build the model pipeline\n",
    "model = Pipeline([\n",
    "    ('logisticregression', LogisticRegression(solver='lbfgs',max_iter=10000))\n",
    "])"
   ]
  },
  {
   "cell_type": "code",
   "execution_count": 517,
   "metadata": {},
   "outputs": [
    {
     "data": {
      "text/html": [
       "<style>#sk-container-id-5 {color: black;background-color: white;}#sk-container-id-5 pre{padding: 0;}#sk-container-id-5 div.sk-toggleable {background-color: white;}#sk-container-id-5 label.sk-toggleable__label {cursor: pointer;display: block;width: 100%;margin-bottom: 0;padding: 0.3em;box-sizing: border-box;text-align: center;}#sk-container-id-5 label.sk-toggleable__label-arrow:before {content: \"▸\";float: left;margin-right: 0.25em;color: #696969;}#sk-container-id-5 label.sk-toggleable__label-arrow:hover:before {color: black;}#sk-container-id-5 div.sk-estimator:hover label.sk-toggleable__label-arrow:before {color: black;}#sk-container-id-5 div.sk-toggleable__content {max-height: 0;max-width: 0;overflow: hidden;text-align: left;background-color: #f0f8ff;}#sk-container-id-5 div.sk-toggleable__content pre {margin: 0.2em;color: black;border-radius: 0.25em;background-color: #f0f8ff;}#sk-container-id-5 input.sk-toggleable__control:checked~div.sk-toggleable__content {max-height: 200px;max-width: 100%;overflow: auto;}#sk-container-id-5 input.sk-toggleable__control:checked~label.sk-toggleable__label-arrow:before {content: \"▾\";}#sk-container-id-5 div.sk-estimator input.sk-toggleable__control:checked~label.sk-toggleable__label {background-color: #d4ebff;}#sk-container-id-5 div.sk-label input.sk-toggleable__control:checked~label.sk-toggleable__label {background-color: #d4ebff;}#sk-container-id-5 input.sk-hidden--visually {border: 0;clip: rect(1px 1px 1px 1px);clip: rect(1px, 1px, 1px, 1px);height: 1px;margin: -1px;overflow: hidden;padding: 0;position: absolute;width: 1px;}#sk-container-id-5 div.sk-estimator {font-family: monospace;background-color: #f0f8ff;border: 1px dotted black;border-radius: 0.25em;box-sizing: border-box;margin-bottom: 0.5em;}#sk-container-id-5 div.sk-estimator:hover {background-color: #d4ebff;}#sk-container-id-5 div.sk-parallel-item::after {content: \"\";width: 100%;border-bottom: 1px solid gray;flex-grow: 1;}#sk-container-id-5 div.sk-label:hover label.sk-toggleable__label {background-color: #d4ebff;}#sk-container-id-5 div.sk-serial::before {content: \"\";position: absolute;border-left: 1px solid gray;box-sizing: border-box;top: 0;bottom: 0;left: 50%;z-index: 0;}#sk-container-id-5 div.sk-serial {display: flex;flex-direction: column;align-items: center;background-color: white;padding-right: 0.2em;padding-left: 0.2em;position: relative;}#sk-container-id-5 div.sk-item {position: relative;z-index: 1;}#sk-container-id-5 div.sk-parallel {display: flex;align-items: stretch;justify-content: center;background-color: white;position: relative;}#sk-container-id-5 div.sk-item::before, #sk-container-id-5 div.sk-parallel-item::before {content: \"\";position: absolute;border-left: 1px solid gray;box-sizing: border-box;top: 0;bottom: 0;left: 50%;z-index: -1;}#sk-container-id-5 div.sk-parallel-item {display: flex;flex-direction: column;z-index: 1;position: relative;background-color: white;}#sk-container-id-5 div.sk-parallel-item:first-child::after {align-self: flex-end;width: 50%;}#sk-container-id-5 div.sk-parallel-item:last-child::after {align-self: flex-start;width: 50%;}#sk-container-id-5 div.sk-parallel-item:only-child::after {width: 0;}#sk-container-id-5 div.sk-dashed-wrapped {border: 1px dashed gray;margin: 0 0.4em 0.5em 0.4em;box-sizing: border-box;padding-bottom: 0.4em;background-color: white;}#sk-container-id-5 div.sk-label label {font-family: monospace;font-weight: bold;display: inline-block;line-height: 1.2em;}#sk-container-id-5 div.sk-label-container {text-align: center;}#sk-container-id-5 div.sk-container {/* jupyter's `normalize.less` sets `[hidden] { display: none; }` but bootstrap.min.css set `[hidden] { display: none !important; }` so we also need the `!important` here to be able to override the default hidden behavior on the sphinx rendered scikit-learn.org. See: https://github.com/scikit-learn/scikit-learn/issues/21755 */display: inline-block !important;position: relative;}#sk-container-id-5 div.sk-text-repr-fallback {display: none;}</style><div id=\"sk-container-id-5\" class=\"sk-top-container\"><div class=\"sk-text-repr-fallback\"><pre>Pipeline(steps=[(&#x27;logisticregression&#x27;, LogisticRegression(max_iter=10000))])</pre><b>In a Jupyter environment, please rerun this cell to show the HTML representation or trust the notebook. <br />On GitHub, the HTML representation is unable to render, please try loading this page with nbviewer.org.</b></div><div class=\"sk-container\" hidden><div class=\"sk-item sk-dashed-wrapped\"><div class=\"sk-label-container\"><div class=\"sk-label sk-toggleable\"><input class=\"sk-toggleable__control sk-hidden--visually\" id=\"sk-estimator-id-9\" type=\"checkbox\" ><label for=\"sk-estimator-id-9\" class=\"sk-toggleable__label sk-toggleable__label-arrow\">Pipeline</label><div class=\"sk-toggleable__content\"><pre>Pipeline(steps=[(&#x27;logisticregression&#x27;, LogisticRegression(max_iter=10000))])</pre></div></div></div><div class=\"sk-serial\"><div class=\"sk-item\"><div class=\"sk-estimator sk-toggleable\"><input class=\"sk-toggleable__control sk-hidden--visually\" id=\"sk-estimator-id-10\" type=\"checkbox\" ><label for=\"sk-estimator-id-10\" class=\"sk-toggleable__label sk-toggleable__label-arrow\">LogisticRegression</label><div class=\"sk-toggleable__content\"><pre>LogisticRegression(max_iter=10000)</pre></div></div></div></div></div></div></div>"
      ],
      "text/plain": [
       "Pipeline(steps=[('logisticregression', LogisticRegression(max_iter=10000))])"
      ]
     },
     "execution_count": 517,
     "metadata": {},
     "output_type": "execute_result"
    }
   ],
   "source": [
    "# train the model\n",
    "model.fit(X_train, Y_train)"
   ]
  },
  {
   "cell_type": "code",
   "execution_count": 518,
   "metadata": {},
   "outputs": [
    {
     "data": {
      "text/html": [
       "<div>\n",
       "<style scoped>\n",
       "    .dataframe tbody tr th:only-of-type {\n",
       "        vertical-align: middle;\n",
       "    }\n",
       "\n",
       "    .dataframe tbody tr th {\n",
       "        vertical-align: top;\n",
       "    }\n",
       "\n",
       "    .dataframe thead th {\n",
       "        text-align: right;\n",
       "    }\n",
       "</style>\n",
       "<table border=\"1\" class=\"dataframe\">\n",
       "  <thead>\n",
       "    <tr style=\"text-align: right;\">\n",
       "      <th></th>\n",
       "      <th>time</th>\n",
       "      <th>age</th>\n",
       "      <th>income</th>\n",
       "      <th>membership_duration</th>\n",
       "      <th>difficulty</th>\n",
       "      <th>duration</th>\n",
       "      <th>email</th>\n",
       "      <th>mobile</th>\n",
       "      <th>social</th>\n",
       "      <th>web</th>\n",
       "      <th>gender_F</th>\n",
       "      <th>gender_M</th>\n",
       "      <th>gender_O</th>\n",
       "      <th>offer_type_bogo</th>\n",
       "      <th>offer_type_discount</th>\n",
       "      <th>offer_type_informational</th>\n",
       "    </tr>\n",
       "  </thead>\n",
       "  <tbody>\n",
       "    <tr>\n",
       "      <th>15089</th>\n",
       "      <td>438</td>\n",
       "      <td>62</td>\n",
       "      <td>35000.0</td>\n",
       "      <td>1726.420585</td>\n",
       "      <td>10</td>\n",
       "      <td>7</td>\n",
       "      <td>1</td>\n",
       "      <td>1</td>\n",
       "      <td>1</td>\n",
       "      <td>0</td>\n",
       "      <td>1</td>\n",
       "      <td>0</td>\n",
       "      <td>0</td>\n",
       "      <td>1</td>\n",
       "      <td>0</td>\n",
       "      <td>0</td>\n",
       "    </tr>\n",
       "    <tr>\n",
       "      <th>35242</th>\n",
       "      <td>630</td>\n",
       "      <td>24</td>\n",
       "      <td>53000.0</td>\n",
       "      <td>1856.420585</td>\n",
       "      <td>7</td>\n",
       "      <td>7</td>\n",
       "      <td>1</td>\n",
       "      <td>1</td>\n",
       "      <td>1</td>\n",
       "      <td>1</td>\n",
       "      <td>0</td>\n",
       "      <td>1</td>\n",
       "      <td>0</td>\n",
       "      <td>0</td>\n",
       "      <td>1</td>\n",
       "      <td>0</td>\n",
       "    </tr>\n",
       "    <tr>\n",
       "      <th>41352</th>\n",
       "      <td>504</td>\n",
       "      <td>73</td>\n",
       "      <td>52000.0</td>\n",
       "      <td>2229.420585</td>\n",
       "      <td>10</td>\n",
       "      <td>5</td>\n",
       "      <td>1</td>\n",
       "      <td>1</td>\n",
       "      <td>1</td>\n",
       "      <td>1</td>\n",
       "      <td>0</td>\n",
       "      <td>1</td>\n",
       "      <td>0</td>\n",
       "      <td>1</td>\n",
       "      <td>0</td>\n",
       "      <td>0</td>\n",
       "    </tr>\n",
       "    <tr>\n",
       "      <th>20308</th>\n",
       "      <td>588</td>\n",
       "      <td>41</td>\n",
       "      <td>32000.0</td>\n",
       "      <td>2278.420585</td>\n",
       "      <td>5</td>\n",
       "      <td>5</td>\n",
       "      <td>1</td>\n",
       "      <td>1</td>\n",
       "      <td>1</td>\n",
       "      <td>1</td>\n",
       "      <td>0</td>\n",
       "      <td>1</td>\n",
       "      <td>0</td>\n",
       "      <td>1</td>\n",
       "      <td>0</td>\n",
       "      <td>0</td>\n",
       "    </tr>\n",
       "    <tr>\n",
       "      <th>16861</th>\n",
       "      <td>600</td>\n",
       "      <td>76</td>\n",
       "      <td>103000.0</td>\n",
       "      <td>2072.420585</td>\n",
       "      <td>5</td>\n",
       "      <td>5</td>\n",
       "      <td>1</td>\n",
       "      <td>1</td>\n",
       "      <td>1</td>\n",
       "      <td>1</td>\n",
       "      <td>1</td>\n",
       "      <td>0</td>\n",
       "      <td>0</td>\n",
       "      <td>1</td>\n",
       "      <td>0</td>\n",
       "      <td>0</td>\n",
       "    </tr>\n",
       "    <tr>\n",
       "      <th>...</th>\n",
       "      <td>...</td>\n",
       "      <td>...</td>\n",
       "      <td>...</td>\n",
       "      <td>...</td>\n",
       "      <td>...</td>\n",
       "      <td>...</td>\n",
       "      <td>...</td>\n",
       "      <td>...</td>\n",
       "      <td>...</td>\n",
       "      <td>...</td>\n",
       "      <td>...</td>\n",
       "      <td>...</td>\n",
       "      <td>...</td>\n",
       "      <td>...</td>\n",
       "      <td>...</td>\n",
       "      <td>...</td>\n",
       "    </tr>\n",
       "    <tr>\n",
       "      <th>868</th>\n",
       "      <td>180</td>\n",
       "      <td>37</td>\n",
       "      <td>56000.0</td>\n",
       "      <td>1693.420585</td>\n",
       "      <td>5</td>\n",
       "      <td>7</td>\n",
       "      <td>1</td>\n",
       "      <td>1</td>\n",
       "      <td>0</td>\n",
       "      <td>1</td>\n",
       "      <td>1</td>\n",
       "      <td>0</td>\n",
       "      <td>0</td>\n",
       "      <td>1</td>\n",
       "      <td>0</td>\n",
       "      <td>0</td>\n",
       "    </tr>\n",
       "    <tr>\n",
       "      <th>23406</th>\n",
       "      <td>510</td>\n",
       "      <td>63</td>\n",
       "      <td>75000.0</td>\n",
       "      <td>1979.420585</td>\n",
       "      <td>10</td>\n",
       "      <td>7</td>\n",
       "      <td>1</td>\n",
       "      <td>1</td>\n",
       "      <td>0</td>\n",
       "      <td>1</td>\n",
       "      <td>0</td>\n",
       "      <td>1</td>\n",
       "      <td>0</td>\n",
       "      <td>0</td>\n",
       "      <td>1</td>\n",
       "      <td>0</td>\n",
       "    </tr>\n",
       "    <tr>\n",
       "      <th>1415</th>\n",
       "      <td>276</td>\n",
       "      <td>60</td>\n",
       "      <td>63000.0</td>\n",
       "      <td>1727.420585</td>\n",
       "      <td>5</td>\n",
       "      <td>7</td>\n",
       "      <td>1</td>\n",
       "      <td>1</td>\n",
       "      <td>0</td>\n",
       "      <td>1</td>\n",
       "      <td>0</td>\n",
       "      <td>1</td>\n",
       "      <td>0</td>\n",
       "      <td>1</td>\n",
       "      <td>0</td>\n",
       "      <td>0</td>\n",
       "    </tr>\n",
       "    <tr>\n",
       "      <th>12782</th>\n",
       "      <td>414</td>\n",
       "      <td>69</td>\n",
       "      <td>83000.0</td>\n",
       "      <td>1877.420585</td>\n",
       "      <td>10</td>\n",
       "      <td>7</td>\n",
       "      <td>1</td>\n",
       "      <td>1</td>\n",
       "      <td>1</td>\n",
       "      <td>0</td>\n",
       "      <td>0</td>\n",
       "      <td>1</td>\n",
       "      <td>0</td>\n",
       "      <td>1</td>\n",
       "      <td>0</td>\n",
       "      <td>0</td>\n",
       "    </tr>\n",
       "    <tr>\n",
       "      <th>20612</th>\n",
       "      <td>336</td>\n",
       "      <td>67</td>\n",
       "      <td>90000.0</td>\n",
       "      <td>1993.420585</td>\n",
       "      <td>5</td>\n",
       "      <td>5</td>\n",
       "      <td>1</td>\n",
       "      <td>1</td>\n",
       "      <td>1</td>\n",
       "      <td>1</td>\n",
       "      <td>1</td>\n",
       "      <td>0</td>\n",
       "      <td>0</td>\n",
       "      <td>1</td>\n",
       "      <td>0</td>\n",
       "      <td>0</td>\n",
       "    </tr>\n",
       "  </tbody>\n",
       "</table>\n",
       "<p>5278 rows × 16 columns</p>\n",
       "</div>"
      ],
      "text/plain": [
       "       time  age    income  membership_duration  difficulty  duration  email  \\\n",
       "15089   438   62   35000.0          1726.420585          10         7      1   \n",
       "35242   630   24   53000.0          1856.420585           7         7      1   \n",
       "41352   504   73   52000.0          2229.420585          10         5      1   \n",
       "20308   588   41   32000.0          2278.420585           5         5      1   \n",
       "16861   600   76  103000.0          2072.420585           5         5      1   \n",
       "...     ...  ...       ...                  ...         ...       ...    ...   \n",
       "868     180   37   56000.0          1693.420585           5         7      1   \n",
       "23406   510   63   75000.0          1979.420585          10         7      1   \n",
       "1415    276   60   63000.0          1727.420585           5         7      1   \n",
       "12782   414   69   83000.0          1877.420585          10         7      1   \n",
       "20612   336   67   90000.0          1993.420585           5         5      1   \n",
       "\n",
       "       mobile  social  web  gender_F  gender_M  gender_O  offer_type_bogo  \\\n",
       "15089       1       1    0         1         0         0                1   \n",
       "35242       1       1    1         0         1         0                0   \n",
       "41352       1       1    1         0         1         0                1   \n",
       "20308       1       1    1         0         1         0                1   \n",
       "16861       1       1    1         1         0         0                1   \n",
       "...       ...     ...  ...       ...       ...       ...              ...   \n",
       "868         1       0    1         1         0         0                1   \n",
       "23406       1       0    1         0         1         0                0   \n",
       "1415        1       0    1         0         1         0                1   \n",
       "12782       1       1    0         0         1         0                1   \n",
       "20612       1       1    1         1         0         0                1   \n",
       "\n",
       "       offer_type_discount  offer_type_informational  \n",
       "15089                    0                         0  \n",
       "35242                    1                         0  \n",
       "41352                    0                         0  \n",
       "20308                    0                         0  \n",
       "16861                    0                         0  \n",
       "...                    ...                       ...  \n",
       "868                      0                         0  \n",
       "23406                    1                         0  \n",
       "1415                     0                         0  \n",
       "12782                    0                         0  \n",
       "20612                    0                         0  \n",
       "\n",
       "[5278 rows x 16 columns]"
      ]
     },
     "execution_count": 518,
     "metadata": {},
     "output_type": "execute_result"
    }
   ],
   "source": [
    "X_test"
   ]
  },
  {
   "cell_type": "code",
   "execution_count": 519,
   "metadata": {},
   "outputs": [
    {
     "name": "stdout",
     "output_type": "stream",
     "text": [
      "              precision    recall  f1-score   support\n",
      "\n",
      "           0       0.90      0.96      0.93      4338\n",
      "           1       0.72      0.51      0.60       940\n",
      "\n",
      "    accuracy                           0.88      5278\n",
      "   macro avg       0.81      0.73      0.76      5278\n",
      "weighted avg       0.87      0.88      0.87      5278\n",
      "\n"
     ]
    }
   ],
   "source": [
    "# test and evaluate the model\n",
    "Y_pred = model.predict(X_test)\n",
    "report  = classification_report(Y_test, Y_pred, labels = [0,1])\n",
    "print(report)"
   ]
  },
  {
   "cell_type": "code",
   "execution_count": 521,
   "metadata": {},
   "outputs": [
    {
     "data": {
      "text/plain": [
       "array([ 1.81550038e-03, -1.18418009e-02,  5.59075508e-06,  3.18483633e-04,\n",
       "        1.34366969e-01, -1.24421308e-01, -4.91084805e-01, -7.60279713e-01,\n",
       "       -2.09511268e+00,  2.22607988e-01,  3.87302381e-01, -8.57030988e-01,\n",
       "       -2.13561975e-02, -2.13835460e-01,  2.74260470e-01, -5.51509814e-01])"
      ]
     },
     "execution_count": 521,
     "metadata": {},
     "output_type": "execute_result"
    }
   ],
   "source": [
    "model.steps[0][1].coef_[0]"
   ]
  },
  {
   "cell_type": "code",
   "execution_count": 522,
   "metadata": {},
   "outputs": [
    {
     "data": {
      "text/plain": [
       "Index(['time', 'age', 'income', 'membership_duration', 'difficulty',\n",
       "       'duration', 'email', 'mobile', 'social', 'web', 'gender_F', 'gender_M',\n",
       "       'gender_O', 'offer_type_bogo', 'offer_type_discount',\n",
       "       'offer_type_informational'],\n",
       "      dtype='object')"
      ]
     },
     "execution_count": 522,
     "metadata": {},
     "output_type": "execute_result"
    }
   ],
   "source": [
    "X_train.columns"
   ]
  }
 ],
 "metadata": {
  "kernelspec": {
   "display_name": "Python 3",
   "language": "python",
   "name": "python3"
  },
  "language_info": {
   "codemirror_mode": {
    "name": "ipython",
    "version": 3
   },
   "file_extension": ".py",
   "mimetype": "text/x-python",
   "name": "python",
   "nbconvert_exporter": "python",
   "pygments_lexer": "ipython3",
   "version": "3.9.13"
  },
  "orig_nbformat": 4,
  "vscode": {
   "interpreter": {
    "hash": "11938c6bc6919ae2720b4d5011047913343b08a43b18698fd82dedb0d4417594"
   }
  }
 },
 "nbformat": 4,
 "nbformat_minor": 2
}
